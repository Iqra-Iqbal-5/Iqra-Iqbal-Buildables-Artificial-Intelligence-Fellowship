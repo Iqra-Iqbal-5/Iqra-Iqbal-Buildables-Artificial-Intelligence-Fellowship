{
  "nbformat": 4,
  "nbformat_minor": 0,
  "metadata": {
    "colab": {
      "provenance": []
    },
    "kernelspec": {
      "name": "python3",
      "display_name": "Python 3"
    },
    "language_info": {
      "name": "python"
    }
  },
  "cells": [
    {
      "cell_type": "markdown",
      "source": [
        "### Question 1\n",
        "**What is prompting?**  \n",
        "Answer: Prompting is the practice of giving instructions to a generative AI tool in a clear and structured way so it produces the results you want. A good prompt includes elements like task, persona, format, context, and references. The better and more thoughtful the inputs, the better the outputs.\n",
        "\n",
        "### Question 2\n",
        "**In the following prompt, which part describes the primary task?**  \n",
        "Prompt: *“Explain how car batteries work using non-technical language that someone without any mechanical knowledge could understand and interpret.”*  \n",
        "Answer: The primary task in the prompt is to “explain how car batteries work.” In addition to this task, the prompt sets specific constraints: the explanation must use non-technical language and it should be understandable for someone without mechanical knowledge. This also highlights the intended audience, which is beginners or laypeople rather than experts. The style and tone are implied to be simple, clear, and accessible so that the outcome is not just an explanation, but one that can be easily interpreted and understood by the reader.\n",
        "### Question 3\n",
        "**When you are using a gen AI tool to create a healthy three-course menu that requires a certain number of calories, which prompting element will ensure the menu is more practical?**  \n",
        "Answer:  The prompting element that makes the menu more practical is context. The task only tells the AI to create a healthy three-course menu, but without more details it may be too general. Context adds important information like the required number of calories, dietary needs, and health goals. This makes the menu realistic and useful. Other elements such as persona, format, references, and evaluation can help improve clarity and presentation, but they do not make the menu practical in the same way that context does\n",
        "### Question 4\n",
        "**Prompting with audio to receive a visual representation is called what?**  \n",
        "Answer: Prompting with audio to receive a visual representation is called multimodal prompting. This type of prompting combines more than one mode of input, such as sound, text, or images. In this case, the audio serves as the input, and the AI generates a visual response from it. Multimodal prompting is useful because it allows richer interactions and more practical outputs across different forms of media. It is becoming an important feature in advanced AI tools.\n",
        "### Question 5\n",
        "**What does a human-in-the-loop approach to prompting emphasize?**  \n",
        "Answer: A human-in-the-loop approach emphasizes that AI outputs must always be verified and refined by a human before use. It ensures accuracy, fairness, and responsibility by fact-checking, cross-referencing, and reducing bias, since AI can produce errors or hallucinations.\n",
        "\n",
        "### Question 6\n",
        "**When the initial prompt \"Create a dataset\" is too broad, what should you do to refine it?**  \n",
        "Answer: You should iterate and refine the prompt by adding more details, breaking it into smaller tasks, or introducing constraints. For example, instead of simply saying “Create a dataset,” you could say: “Create a dataset of 100 rows with three columns: customer name, age, and city.” This makes the task specific and actionable.\n"
      ],
      "metadata": {
        "id": "yh9gGeXvK6tP"
      }
    },
    {
      "cell_type": "code",
      "source": [],
      "metadata": {
        "id": "Cll8qZN5f3Hq"
      },
      "execution_count": null,
      "outputs": []
    },
    {
      "cell_type": "markdown",
      "source": [
        "###**Design prompts for everyday work tasks**\n",
        "\n",
        "\n"
      ],
      "metadata": {
        "id": "L1kzvh11fuE9"
      }
    },
    {
      "cell_type": "markdown",
      "source": [
        "### Exercise: Try It Yourself ❗\n",
        "\n",
        "### 1. To-do List for This Week\n",
        "- Email professor about project feedback  \n",
        "- Revise AI notes  \n",
        "\n",
        "### 2. Pick One Task Where AI Could Help\n",
        "👉 Task: Email professor about project feedback  \n",
        "\n",
        "### 3. Give AI the Prompt\n",
        "*\"Write a polite, professional email to my professor asking for feedback on my final year project draft.\"*  \n",
        "\n",
        "### 4. Review and Edit the Result\n",
        "**Edited Email (Ready to Send):**  \n",
        "Subject: Request for Feedback on Final Year Project Draft  \n",
        "\n",
        "Dear Professor [Last Name],\n",
        "\n",
        "I hope you are doing well. I have completed a draft of my final year project and would greatly appreciate your feedback. Please let me know if I can share the document with you directly or if we could arrange a short meeting.\n",
        "\n",
        "Thank you for your guidance and support.\n",
        "\n",
        "Best regards,  \n",
        "[Your Name]\n"
      ],
      "metadata": {
        "id": "6nMp-O1UgXZw"
      }
    },
    {
      "cell_type": "markdown",
      "source": [
        "# ✨ Exercise: Practice Tone & Style Prompting for LinkedIn Post ✨\n",
        "\n",
        "### 1. Original LinkedIn Post\n",
        "\"I completed my AI bootcamp and learned many new skills in machine learning and deep learning.\"\n",
        "\n",
        "### 2. Prompts for Different Tones\n",
        "- **Inspirational / Motivating:**  \n",
        "*\"Rewrite this LinkedIn post to sound inspirational, like a TED speaker motivating professionals.\"*\n",
        "\n",
        "- **Formal / Professional:**  \n",
        "*\"Rewrite this LinkedIn post in a formal and professional tone suitable for industry networking.\"*\n",
        "\n",
        "- **Casual / Friendly:**  \n",
        "*\"Rewrite this LinkedIn post in a friendly, approachable tone for peers and connections.\"*\n",
        "\n",
        "- **Funny / Light-hearted:**  \n",
        "*\"Rewrite this LinkedIn post in a funny and playful tone, while still sharing the achievement.\"*\n"
      ],
      "metadata": {
        "id": "5fwX_EFllw2R"
      }
    },
    {
      "cell_type": "markdown",
      "source": [
        "# ✨ Exercise: Try It Yourself ❗\n",
        "\n",
        "### 1. Email you need to write\n",
        "- To your client updating them on progress for the genetic algorithm project.\n",
        "\n",
        "### 2. Prompt Framework\n",
        "- **Persona:** I am a AI/ML consultant working on the client’s project.  \n",
        "- **Context:** We have made progress on the genetic algorithm task.  \n",
        "- **Task:** Write an email updating the client on progress, next steps, and expected timeline.  \n",
        "- **Specificity:** Professional, clear, concise, and reassuring about project delivery.\n",
        "\n",
        "### 3. Give AI the Prompt\n",
        "*\"Write a professional email to a client updating them on the progress of their genetic algorithm project. Include next steps and expected timeline.\"*\n",
        "### 4. Review and Edit the Result ✅\n",
        "\n",
        "**Edited Email (Ready to Send):**  \n",
        "Subject: Update on Genetic Algorithm Project Progress  \n",
        "\n",
        "Dear [Client Name],\n",
        "\n",
        "I hope you are doing well. I wanted to provide an update on the genetic algorithm project. We have completed the initial implementation and conducted preliminary testing. The results are promising, and we are on track to finalize optimization in the coming week.\n",
        "\n",
        "Please let me know if you would like a brief call to review the progress in detail.\n",
        "\n",
        "Thank you for your continued support.\n",
        "\n",
        "Best regards,  \n",
        "[Your Name]\n",
        "\n"
      ],
      "metadata": {
        "id": "iS_c44fQjoRE"
      }
    },
    {
      "cell_type": "markdown",
      "source": [
        "# ✨ Exercises: Try It Yourself ❗\n",
        "\n",
        "## Exercise 1: Icebreakers\n",
        "**Prompt for AI:** Generate 3 creative icebreakers for a new teammate who loves basketball and photography.  .  \n",
        "## Exercise 2: Product Launch\n",
        "**Prompt for AI:** Iam project Manger at a company so make plan a 6-month launch timeline for a new mobile fitness app and suggest pre-launch buzz ideas.  .  \n",
        "## Exercise 3: Global Audience Twist\n",
        "**Prompt for AI:** Adapt the product launch plan for a global audience.\n",
        "## ✅ Reflection Question\n",
        "\n",
        "How can you use generative AI to **spark new ideas** in your own projects or workplace?\n",
        "You can use generative AI to quickly brainstorm new ideas, explore “what-if” scenarios, and spark creative solutions. It helps combine different perspectives, uncover risks, and suggest alternatives you may not think of. AI can also draft prototypes of reports, presentations, or workflows for faster iteration. By treating it as a creative partner, you expand your thinking and refine the best ideas.\n",
        "\n",
        "\n",
        "\n"
      ],
      "metadata": {
        "id": "9uAF3B8ToHfc"
      }
    },
    {
      "cell_type": "markdown",
      "source": [
        "### Exercises: Try It Yourself ❗\n",
        "\n",
        "## Exercise 1: Project Tracker\n",
        "**Scenario:** I am a project manager managing multiple team members.  \n",
        "**Prompt for AI:**  \n",
        "I am a project manager overseeing several team members. Build a project tracker table with columns: Task Name, Responsible Person, Due Date, and Current Status. Make sure no individual is assigned more than 2 ongoing tasks. Include sample data for 8 tasks and 2 team members.\n",
        "\n",
        "## Exercise 2: Event Schedule\n",
        "**Scenario:** I am an event coordinator planning a 3-day conference.  \n",
        "**Prompt for AI:**  \n",
        "I am organizing a 3-day professional conference. Generate a detailed schedule with columns: Day, Session Name, Speaker, and Timing. Each speaker has two sessions per day (9 AM–12 PM and 2 PM–5 PM) with a 2-hour lunch break. Ensure no speaker has more than one session in a given time slot. Include example sessions for each day.\n",
        "\n",
        "## Exercise 3: Team Availability\n",
        "**Scenario:** I am an HR manager managing employee vacation schedules.  \n",
        "**Prompt for AI:**  \n",
        "I am an HR manager keeping track of employee vacations. Create a vacation tracker table with columns: Employee Name, Vacation Start Date, Vacation End Date. Make sure at least 2 employees are available at all times. Provide example vacation periods for all 8 employees, formatted clearly like a spreadsheet with dates in MM/DD/YYYY format.                                                                        \n",
        "## Reflection Question\n",
        "\n",
        "How could you use AI to **organize recurring tasks** (like meetings, deadlines, or resources) at your workplace?                                                                     AI can organize recurring tasks by automating meeting scheduling, sending reminders, and tracking deadlines. It can generate summaries of past meetings to keep everyone aligned. AI tools can also suggest optimal resource allocation based on workload. This reduces manual effort and keeps tasks consistent and on time.\n"
      ],
      "metadata": {
        "id": "gCd7yB1fNHaA"
      }
    },
    {
      "cell_type": "markdown",
      "source": [
        "### Exercises: Try It Yourself ❗\n",
        "\n",
        "### Exercise 1: Speaker-based Minutes\n",
        "\n",
        "Take a sample transcript (or your last meeting notes) and prompt AI:\n",
        "\n",
        "```\n",
        "Summarize the meeting into minutes by speaker.  \n",
        "Add 2–3 bullet points per speaker, and mark action items clearly.  \n",
        "```\n",
        "\n",
        "### Exercise 2: Action-Focused Notes\n",
        "\n",
        "Use this prompt:\n",
        "\n",
        "```\n",
        "Create meeting minutes that focus only on action items.  \n",
        "Format each entry as: Action Item, Responsible Person, Deadline.  \n",
        "```\n",
        "\n",
        "### Exercise 3: Thematic Notes\n",
        "\n",
        "Try refining for themes:\n",
        "\n",
        "```\n",
        "Group meeting minutes into sections based on topics discussed.  \n",
        "For each section, summarize key decisions, and list assigned action items.  \n",
        "```"
      ],
      "metadata": {
        "id": "u6AhTLlZNwUB"
      }
    },
    {
      "cell_type": "markdown",
      "source": [
        "\n",
        "### ✅ Reflection Question 💡\n",
        "How could AI-generated meeting notes help you **improve follow-up and accountability** in your workplace?\n",
        "AI-generated meeting notes can clearly capture decisions, action items, and deadlines, reducing the chance of miscommunication. They make it easy to assign responsibilities and track progress afterward. Automated reminders from notes can keep tasks on schedule. This improves accountability and ensures consistent follow-up across the team.\n",
        "\n"
      ],
      "metadata": {
        "id": "MB7vhqYJtUBQ"
      }
    },
    {
      "cell_type": "markdown",
      "source": [
        "### Exercises: Try It Yourself ❗\n",
        "\n",
        "### Exercise 1: Outline Summary\n",
        "\n",
        "Take a long article or report. Prompt AI:\n",
        "\n",
        "```\n",
        "Summarize this document into a bulleted outline of no more than 10 points.  \n",
        "```\n",
        "\n",
        "### Exercise 2: Audience Summary\n",
        "\n",
        "Try this with the same text:\n",
        "\n",
        "```\n",
        "Summarize this document as if explaining it to a high school student.  \n",
        "```\n",
        "\n",
        "### Exercise 3: Comparative Summary\n",
        "\n",
        "Use:\n",
        "\n",
        "```\n",
        "Summarize this report in two versions:  \n",
        "1. Executive summary for leadership.  \n",
        "2. Simplified version for frontline employees.  \n",
        "```"
      ],
      "metadata": {
        "id": "cOymXjkfvAOg"
      }
    },
    {
      "cell_type": "markdown",
      "source": [
        "### ✅ Reflection Question 💡 How could tailoring summaries to **different audiences** (executives, clients, students) improve understanding and decision-making in your work?\n",
        "Adapting summaries for different audiences makes communication more effective. Executives benefit from high-level takeaways to guide strategy, clients value clear updates on outcomes and next steps, and students need simplified explanations to build understanding. When information is tailored this way, it reduces confusion and supports better decisions.\n"
      ],
      "metadata": {
        "id": "2zuXfkVrvBJH"
      }
    },
    {
      "cell_type": "markdown",
      "source": [
        "#  3. Use AI as a creative or expert partner"
      ],
      "metadata": {
        "id": "PlhLc2LyPVwz"
      }
    },
    {
      "cell_type": "markdown",
      "source": [
        "# 📝 Reflection Questions on Prompt Chaining\n",
        "\n",
        "**1. How is prompt chaining similar to solving a jigsaw puzzle?**  \n",
        "Because both involve breaking a big task into smaller pieces and then connecting them to see the full picture.  \n",
        "\n",
        "**2. What’s the main difference between iteration and chaining?**  \n",
        "Iteration improves one prompt again and again, while chaining connects different prompts step by step to solve a larger problem.  \n",
        "\n",
        "**3. Why might prompt chaining be more effective than asking AI one big question?**  \n",
        "It makes the task easier for the AI, avoids confusion, and gives more accurate and organized results.  \n",
        "\n",
        "**4. How can the context window of an AI model affect your chaining strategy?**  \n",
        "Since the AI can only “remember” a limited amount of text, you may need to shorten or summarize earlier outputs to keep everything within that limit.  \n"
      ],
      "metadata": {
        "id": "jr29VlWvPfOJ"
      }
    },
    {
      "cell_type": "markdown",
      "source": [
        "### ✅ Reflection Question 💡 How could CoT and ToT prompting help you **solve complex problems** or **spark creativity** in your workplace?\n",
        "CoT prompting can help solve complex problems by breaking them into clear, logical steps, making decisions easier to follow and refine. ToT prompting sparks creativity by exploring multiple solution paths, comparing options, and highlighting the most effective ideas. Together, they ensure both structured problem-solving and innovative thinking in the workplace.\n"
      ],
      "metadata": {
        "id": "UgOSgBpew1K9"
      }
    },
    {
      "cell_type": "markdown",
      "source": [],
      "metadata": {
        "id": "rH8v7BFG7YNO"
      }
    },
    {
      "cell_type": "markdown",
      "source": [
        "### ✅ Reflection Question 💡\n",
        "How could prompt chaining help you **simplify a complex project** or **improve collaboration** in your workplace?\n",
        "Prompt chaining can simplify a complex project by breaking it into smaller, manageable steps that build on each other. It ensures clarity in each stage, making progress easier to track. For collaboration, it provides structured outputs that different team members can refine or act on, reducing confusion and miscommunication. This leads to more efficient teamwork and better project outcomes.\n"
      ],
      "metadata": {
        "id": "phaXW7IB7YQK"
      }
    },
    {
      "cell_type": "markdown",
      "source": [
        "### ✅ Reflection Question 💡\n",
        "How could enlisting AI as a thought partner help you **save time**, **spark creativity**, or **improve decision-making** in your workplace?\n",
        "\n",
        "Enlisting AI as a thought partner can save time by quickly drafting outlines or summarizing long documents, spark creativity by suggesting fresh ideas or alternative approaches, and improve decision-making by providing step-by-step reasoning and insights that help evaluate options more clearly.\n"
      ],
      "metadata": {
        "id": "CV3ONngl7pCo"
      }
    },
    {
      "cell_type": "markdown",
      "source": [
        "### ✅ Reflection Question 💡\n",
        "How could meta-prompting help you **craft better prompts** or **improve AI outputs** for your specific work tasks?\n",
        "Meta-prompting can help me craft better prompts by turning AI into a guide for designing questions that are clearer, more specific, and aligned with my goals. It saves time when I’m stuck phrasing a task, improves AI outputs by refining tone or structure, and ensures I don’t miss important details. For my work tasks, this means more accurate drafts, stronger ideas, and higher-quality results from AI with less trial and error.\n"
      ],
      "metadata": {
        "id": "NEoOeUXD8DVT"
      }
    },
    {
      "cell_type": "markdown",
      "source": [
        "### ✅ Reflection Question 💡\n",
        "How could AI agents like AgentSim and AgentX help you **practice skills** or **improve work outputs** in your role?\n",
        "AI agents like **AgentSim** can help me practice skills by simulating real-life scenarios such as interviews or client meetings, giving me a safe space to rehearse. **AgentX** can improve my work outputs by offering expert feedback on reports, presentations, or strategies, pointing out strengths and areas for improvement. Together, they would **boost confidence, sharpen communication, and enhance the quality of my work**.\n"
      ],
      "metadata": {
        "id": "9WjhR2538UlU"
      }
    },
    {
      "cell_type": "markdown",
      "source": [
        "### ✅ Reflection Question 💡\n",
        "How could AgentX’s expert feedback help you **improve specific work outputs** or **prepare for high-stakes scenarios** in your role?\n",
        "AgentX’s expert feedback could help me improve work outputs by spotting gaps in clarity, structure, or strategy that I might miss on my own. It would also prepare me for high-stakes scenarios, like client pitches or interviews, by offering tailored critiques and practice questions. This way, I can enter important situations more confident, polished, and ready to perform at my best.\n"
      ],
      "metadata": {
        "id": "qQay3vPI8h2n"
      }
    },
    {
      "cell_type": "markdown",
      "source": [
        "### ✅ Reflection Question 💡\n",
        "How could AI agents help you **tackle specific challenges** or **achieve goals** in your work or personal life?\n",
        "AI agents could help me tackle specific challenges by acting as on-demand experts—for example, a negotiation coach to practice client conversations or a project partner to refine reports. They can also help me achieve goals by teaching new skills, giving targeted feedback, or collaborating on complex tasks like proposals or campaign plans. This support would save time, boost confidence, and improve the quality of my work and personal growth.\n"
      ],
      "metadata": {
        "id": "ud1l2wDB80rh"
      }
    },
    {
      "cell_type": "markdown",
      "source": [
        "### ✅ Reflection Question 💡\n",
        "How could a prompt library help you **streamline repetitive tasks** or **improve AI outputs** in your work?\n",
        "A prompt library could help me save time by reusing well-tested prompts for repetitive tasks like emails, reports, or social media posts. It would also improve consistency and quality, since I’d have clear versions for different tones or audiences ready to go. By organizing and refining prompts, I could quickly adapt them to new situations and get more accurate AI outputs. Overall, it would make my workflow more efficient and reliable.\n"
      ],
      "metadata": {
        "id": "nS8e2vUT9Lv5"
      }
    },
    {
      "cell_type": "code",
      "source": [
        "!pip install streamlit fastapi uvicorn pyngrok nest_asyncio requests\n"
      ],
      "metadata": {
        "colab": {
          "base_uri": "https://localhost:8080/"
        },
        "id": "zIasFxBS9PxN",
        "outputId": "80bf8d5b-d0ae-430b-8c34-d8881b032fa0"
      },
      "execution_count": 6,
      "outputs": [
        {
          "output_type": "stream",
          "name": "stdout",
          "text": [
            "Requirement already satisfied: streamlit in /usr/local/lib/python3.12/dist-packages (1.49.1)\n",
            "Requirement already satisfied: fastapi in /usr/local/lib/python3.12/dist-packages (0.116.1)\n",
            "Requirement already satisfied: uvicorn in /usr/local/lib/python3.12/dist-packages (0.35.0)\n",
            "Requirement already satisfied: pyngrok in /usr/local/lib/python3.12/dist-packages (7.3.0)\n",
            "Requirement already satisfied: nest_asyncio in /usr/local/lib/python3.12/dist-packages (1.6.0)\n",
            "Requirement already satisfied: requests in /usr/local/lib/python3.12/dist-packages (2.32.4)\n",
            "Requirement already satisfied: altair!=5.4.0,!=5.4.1,<6,>=4.0 in /usr/local/lib/python3.12/dist-packages (from streamlit) (5.5.0)\n",
            "Requirement already satisfied: blinker<2,>=1.5.0 in /usr/local/lib/python3.12/dist-packages (from streamlit) (1.9.0)\n",
            "Requirement already satisfied: cachetools<7,>=4.0 in /usr/local/lib/python3.12/dist-packages (from streamlit) (5.5.2)\n",
            "Requirement already satisfied: click<9,>=7.0 in /usr/local/lib/python3.12/dist-packages (from streamlit) (8.2.1)\n",
            "Requirement already satisfied: numpy<3,>=1.23 in /usr/local/lib/python3.12/dist-packages (from streamlit) (2.0.2)\n",
            "Requirement already satisfied: packaging<26,>=20 in /usr/local/lib/python3.12/dist-packages (from streamlit) (25.0)\n",
            "Requirement already satisfied: pandas<3,>=1.4.0 in /usr/local/lib/python3.12/dist-packages (from streamlit) (2.2.2)\n",
            "Requirement already satisfied: pillow<12,>=7.1.0 in /usr/local/lib/python3.12/dist-packages (from streamlit) (11.3.0)\n",
            "Requirement already satisfied: protobuf<7,>=3.20 in /usr/local/lib/python3.12/dist-packages (from streamlit) (5.29.5)\n",
            "Requirement already satisfied: pyarrow>=7.0 in /usr/local/lib/python3.12/dist-packages (from streamlit) (18.1.0)\n",
            "Requirement already satisfied: tenacity<10,>=8.1.0 in /usr/local/lib/python3.12/dist-packages (from streamlit) (8.5.0)\n",
            "Requirement already satisfied: toml<2,>=0.10.1 in /usr/local/lib/python3.12/dist-packages (from streamlit) (0.10.2)\n",
            "Requirement already satisfied: typing-extensions<5,>=4.4.0 in /usr/local/lib/python3.12/dist-packages (from streamlit) (4.15.0)\n",
            "Requirement already satisfied: watchdog<7,>=2.1.5 in /usr/local/lib/python3.12/dist-packages (from streamlit) (6.0.0)\n",
            "Requirement already satisfied: gitpython!=3.1.19,<4,>=3.0.7 in /usr/local/lib/python3.12/dist-packages (from streamlit) (3.1.45)\n",
            "Requirement already satisfied: pydeck<1,>=0.8.0b4 in /usr/local/lib/python3.12/dist-packages (from streamlit) (0.9.1)\n",
            "Requirement already satisfied: tornado!=6.5.0,<7,>=6.0.3 in /usr/local/lib/python3.12/dist-packages (from streamlit) (6.4.2)\n",
            "Requirement already satisfied: starlette<0.48.0,>=0.40.0 in /usr/local/lib/python3.12/dist-packages (from fastapi) (0.47.3)\n",
            "Requirement already satisfied: pydantic!=1.8,!=1.8.1,!=2.0.0,!=2.0.1,!=2.1.0,<3.0.0,>=1.7.4 in /usr/local/lib/python3.12/dist-packages (from fastapi) (2.11.7)\n",
            "Requirement already satisfied: h11>=0.8 in /usr/local/lib/python3.12/dist-packages (from uvicorn) (0.16.0)\n",
            "Requirement already satisfied: PyYAML>=5.1 in /usr/local/lib/python3.12/dist-packages (from pyngrok) (6.0.2)\n",
            "Requirement already satisfied: charset_normalizer<4,>=2 in /usr/local/lib/python3.12/dist-packages (from requests) (3.4.3)\n",
            "Requirement already satisfied: idna<4,>=2.5 in /usr/local/lib/python3.12/dist-packages (from requests) (3.10)\n",
            "Requirement already satisfied: urllib3<3,>=1.21.1 in /usr/local/lib/python3.12/dist-packages (from requests) (2.5.0)\n",
            "Requirement already satisfied: certifi>=2017.4.17 in /usr/local/lib/python3.12/dist-packages (from requests) (2025.8.3)\n",
            "Requirement already satisfied: jinja2 in /usr/local/lib/python3.12/dist-packages (from altair!=5.4.0,!=5.4.1,<6,>=4.0->streamlit) (3.1.6)\n",
            "Requirement already satisfied: jsonschema>=3.0 in /usr/local/lib/python3.12/dist-packages (from altair!=5.4.0,!=5.4.1,<6,>=4.0->streamlit) (4.25.1)\n",
            "Requirement already satisfied: narwhals>=1.14.2 in /usr/local/lib/python3.12/dist-packages (from altair!=5.4.0,!=5.4.1,<6,>=4.0->streamlit) (2.3.0)\n",
            "Requirement already satisfied: gitdb<5,>=4.0.1 in /usr/local/lib/python3.12/dist-packages (from gitpython!=3.1.19,<4,>=3.0.7->streamlit) (4.0.12)\n",
            "Requirement already satisfied: python-dateutil>=2.8.2 in /usr/local/lib/python3.12/dist-packages (from pandas<3,>=1.4.0->streamlit) (2.9.0.post0)\n",
            "Requirement already satisfied: pytz>=2020.1 in /usr/local/lib/python3.12/dist-packages (from pandas<3,>=1.4.0->streamlit) (2025.2)\n",
            "Requirement already satisfied: tzdata>=2022.7 in /usr/local/lib/python3.12/dist-packages (from pandas<3,>=1.4.0->streamlit) (2025.2)\n",
            "Requirement already satisfied: annotated-types>=0.6.0 in /usr/local/lib/python3.12/dist-packages (from pydantic!=1.8,!=1.8.1,!=2.0.0,!=2.0.1,!=2.1.0,<3.0.0,>=1.7.4->fastapi) (0.7.0)\n",
            "Requirement already satisfied: pydantic-core==2.33.2 in /usr/local/lib/python3.12/dist-packages (from pydantic!=1.8,!=1.8.1,!=2.0.0,!=2.0.1,!=2.1.0,<3.0.0,>=1.7.4->fastapi) (2.33.2)\n",
            "Requirement already satisfied: typing-inspection>=0.4.0 in /usr/local/lib/python3.12/dist-packages (from pydantic!=1.8,!=1.8.1,!=2.0.0,!=2.0.1,!=2.1.0,<3.0.0,>=1.7.4->fastapi) (0.4.1)\n",
            "Requirement already satisfied: anyio<5,>=3.6.2 in /usr/local/lib/python3.12/dist-packages (from starlette<0.48.0,>=0.40.0->fastapi) (4.10.0)\n",
            "Requirement already satisfied: sniffio>=1.1 in /usr/local/lib/python3.12/dist-packages (from anyio<5,>=3.6.2->starlette<0.48.0,>=0.40.0->fastapi) (1.3.1)\n",
            "Requirement already satisfied: smmap<6,>=3.0.1 in /usr/local/lib/python3.12/dist-packages (from gitdb<5,>=4.0.1->gitpython!=3.1.19,<4,>=3.0.7->streamlit) (5.0.2)\n",
            "Requirement already satisfied: MarkupSafe>=2.0 in /usr/local/lib/python3.12/dist-packages (from jinja2->altair!=5.4.0,!=5.4.1,<6,>=4.0->streamlit) (3.0.2)\n",
            "Requirement already satisfied: attrs>=22.2.0 in /usr/local/lib/python3.12/dist-packages (from jsonschema>=3.0->altair!=5.4.0,!=5.4.1,<6,>=4.0->streamlit) (25.3.0)\n",
            "Requirement already satisfied: jsonschema-specifications>=2023.03.6 in /usr/local/lib/python3.12/dist-packages (from jsonschema>=3.0->altair!=5.4.0,!=5.4.1,<6,>=4.0->streamlit) (2025.4.1)\n",
            "Requirement already satisfied: referencing>=0.28.4 in /usr/local/lib/python3.12/dist-packages (from jsonschema>=3.0->altair!=5.4.0,!=5.4.1,<6,>=4.0->streamlit) (0.36.2)\n",
            "Requirement already satisfied: rpds-py>=0.7.1 in /usr/local/lib/python3.12/dist-packages (from jsonschema>=3.0->altair!=5.4.0,!=5.4.1,<6,>=4.0->streamlit) (0.27.1)\n",
            "Requirement already satisfied: six>=1.5 in /usr/local/lib/python3.12/dist-packages (from python-dateutil>=2.8.2->pandas<3,>=1.4.0->streamlit) (1.17.0)\n"
          ]
        }
      ]
    },
    {
      "cell_type": "code",
      "source": [
        "import nest_asyncio\n",
        "import requests\n",
        "import json\n",
        "from fastapi import FastAPI, Request\n",
        "import uvicorn\n",
        "from pyngrok import ngrok\n",
        "import threading\n",
        "import streamlit as st"
      ],
      "metadata": {
        "id": "L1FGJ_E5BQzM"
      },
      "execution_count": 7,
      "outputs": []
    },
    {
      "cell_type": "code",
      "source": [
        "import os\n",
        "from getpass import getpass\n",
        "\n",
        "# Ask for Groq API key (hidden input)\n",
        "os.environ[\"GROQ_API_KEY\"] = getpass(\"Enter your Groq API Key: \")"
      ],
      "metadata": {
        "colab": {
          "base_uri": "https://localhost:8080/"
        },
        "id": "sDp5BnKCGiPT",
        "outputId": "7d1a5704-981f-42b7-9605-52a5455e22dd"
      },
      "execution_count": 9,
      "outputs": [
        {
          "name": "stdout",
          "output_type": "stream",
          "text": [
            "Enter your Groq API Key: ··········\n"
          ]
        }
      ]
    },
    {
      "cell_type": "code",
      "source": [
        "def ask_groq(question):\n",
        "    GROQ_API_KEY = os.getenv(\"GROQ_API_KEY\")\n",
        "    if not GROQ_API_KEY:\n",
        "        raise ValueError(\"No Groq API Key set\")\n",
        "\n",
        "    headers = {\n",
        "        \"Authorization\": f\"Bearer {GROQ_API_KEY}\",\n",
        "        \"Content-Type\": \"application/json\"\n",
        "    }\n",
        "\n",
        "    payload = {\n",
        "        \"model\": \"llama-3.1-8b-instant\",\n",
        "        \"messages\": [\n",
        "            {\"role\": \"system\", \"content\": \"You are GroqTutor, a friendly and helpful educational assistant who explains clearly with examples.\"},\n",
        "            {\"role\": \"user\", \"content\": question}\n",
        "        ],\n",
        "        \"temperature\": 0.7\n",
        "    }\n",
        "\n",
        "    resp = requests.post(\"https://api.groq.com/openai/v1/chat/completions\", headers=headers, json=payload)\n",
        "    if resp.status_code != 200:\n",
        "        return f\"Error: {resp.status_code} — {resp.text}\"\n",
        "    return resp.json()[\"choices\"][0][\"message\"][\"content\"]\n",
        "\n",
        "# Test it\n",
        "print(ask_groq(\"What is Pythagoras theorem in simple words?\"))"
      ],
      "metadata": {
        "colab": {
          "base_uri": "https://localhost:8080/"
        },
        "id": "QkQdcev0GqBB",
        "outputId": "d7bbc0f1-e2fe-44c9-f559-965e6176db15"
      },
      "execution_count": 12,
      "outputs": [
        {
          "output_type": "stream",
          "name": "stdout",
          "text": [
            "Pythagoras theorem is a simple math formula that helps you figure out the length of the longest side of a triangle, called the hypotenuse (say \"hi-po-ten-use\"). \n",
            "\n",
            "Here's the formula:\n",
            "\n",
            "a² + b² = c²\n",
            "\n",
            "Where:\n",
            "\n",
            "- 'a' and 'b' are the lengths of the two shorter sides.\n",
            "- 'c' is the length of the longest side (the hypotenuse).\n",
            "\n",
            "Let's use an example: \n",
            "\n",
            "Imagine you have a right-angled triangle (a triangle with one 90-degree angle) with one side that's 3 inches long and the other side that's 4 inches long. \n",
            "\n",
            "To find the length of the longest side (hypotenuse), we plug these numbers into the formula:\n",
            "\n",
            "a² + b² = c²\n",
            "3² + 4² = c²\n",
            "9 + 16 = c²\n",
            "25 = c²\n",
            "\n",
            "Now, to find the actual length of the longest side, we take the square root of 25:\n",
            "\n",
            "c = √25\n",
            "c = 5\n",
            "\n",
            "So, the longest side of the triangle is 5 inches long.\n",
            "\n",
            "That's Pythagoras theorem in a nutshell!\n"
          ]
        }
      ]
    },
    {
      "cell_type": "markdown",
      "source": [
        "# 🚀 Week 3 Project: Chatbot Development with Groq LLMs  \n",
        "\n",
        "\n",
        "## 📚 Chatbot Development Project  \n",
        "\n",
        "### 1. Choose a Use Case  \n",
        "I chose to build an **Educational Q&A Bot for Mathematics**. Many students struggle with math, and this bot can explain concepts like algebra, geometry, and probability in simple words.  \n",
        "\n",
        "- **Target Users:** High school and university students.  \n",
        "- **Expected Benefits:** Quick, reliable explanations available 24/7.  \n",
        "- **Limitations:** Cannot solve very advanced research problems and may sometimes give incomplete answers.  \n",
        "\n",
        "---\n",
        "\n",
        "### 2. Justify Your Choice  \n",
        "- **Why this problem is worth solving:** Students need instant support outside classrooms.  \n",
        "- **Why chatbot vs. website/human:** A chatbot gives interactive answers anytime, unlike static websites or limited human tutors.  \n",
        "- **Tasks my chatbot will perform:** Explaining theorems, solving small problems step by step, and giving definitions.  \n",
        "\n",
        "---\n",
        "\n",
        "### 3. Select the LLM (Use Groq)  \n",
        "I selected **`llama-3.1-8b-instant`**.  \n",
        "\n",
        "- **Reasons:**  \n",
        "  - Fast and lightweight for real-time Q&A.  \n",
        "  - Supports multiple languages.  \n",
        "  - Balances accuracy, speed, and cost.  \n",
        "\n",
        "---\n",
        "\n"
      ],
      "metadata": {
        "id": "w9Pn1r8VHeWU"
      }
    },
    {
      "cell_type": "code",
      "source": [],
      "metadata": {
        "id": "8GDnR1j8Id43"
      },
      "execution_count": null,
      "outputs": []
    }
  ]
}